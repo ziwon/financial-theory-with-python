{
 "cells": [
  {
   "cell_type": "markdown",
   "id": "d12fb310",
   "metadata": {},
   "source": [
    "## Ch02. Two-State Economy"
   ]
  },
  {
   "cell_type": "markdown",
   "id": "7e14e8bc",
   "metadata": {},
   "source": [
    "### Time"
   ]
  },
  {
   "cell_type": "code",
   "execution_count": 2,
   "id": "d4982a0a",
   "metadata": {},
   "outputs": [
    {
     "data": {
      "text/plain": [
       "4"
      ]
     },
     "execution_count": 2,
     "metadata": {},
     "output_type": "execute_result"
    }
   ],
   "source": [
    "1 + 3"
   ]
  },
  {
   "cell_type": "code",
   "execution_count": 3,
   "id": "dd0b3b6a",
   "metadata": {},
   "outputs": [
    {
     "data": {
      "text/plain": [
       "12"
      ]
     },
     "execution_count": 3,
     "metadata": {},
     "output_type": "execute_result"
    }
   ],
   "source": [
    "3 * 4"
   ]
  },
  {
   "cell_type": "code",
   "execution_count": 4,
   "id": "13e368d3",
   "metadata": {},
   "outputs": [],
   "source": [
    "t = 0"
   ]
  },
  {
   "cell_type": "code",
   "execution_count": 5,
   "id": "94628f40",
   "metadata": {},
   "outputs": [
    {
     "data": {
      "text/plain": [
       "0"
      ]
     },
     "execution_count": 5,
     "metadata": {},
     "output_type": "execute_result"
    }
   ],
   "source": [
    "t"
   ]
  },
  {
   "cell_type": "code",
   "execution_count": 6,
   "id": "21612070",
   "metadata": {},
   "outputs": [],
   "source": [
    "t = 1"
   ]
  },
  {
   "cell_type": "code",
   "execution_count": 7,
   "id": "200d145c",
   "metadata": {},
   "outputs": [
    {
     "data": {
      "text/plain": [
       "int"
      ]
     },
     "execution_count": 7,
     "metadata": {},
     "output_type": "execute_result"
    }
   ],
   "source": [
    "type(t)"
   ]
  },
  {
   "cell_type": "markdown",
   "id": "f17f9ac4",
   "metadata": {},
   "source": [
    "### Money"
   ]
  },
  {
   "cell_type": "code",
   "execution_count": 8,
   "id": "a11b89f8",
   "metadata": {},
   "outputs": [
    {
     "data": {
      "text/plain": [
       "1.5"
      ]
     },
     "execution_count": 8,
     "metadata": {},
     "output_type": "execute_result"
    }
   ],
   "source": [
    "1 + 0.5"
   ]
  },
  {
   "cell_type": "code",
   "execution_count": 9,
   "id": "36683869",
   "metadata": {},
   "outputs": [
    {
     "data": {
      "text/plain": [
       "8.5"
      ]
     },
     "execution_count": 9,
     "metadata": {},
     "output_type": "execute_result"
    }
   ],
   "source": [
    "10.5 - 2"
   ]
  },
  {
   "cell_type": "code",
   "execution_count": 10,
   "id": "81729d17",
   "metadata": {},
   "outputs": [],
   "source": [
    "c = 2 + 0.75"
   ]
  },
  {
   "cell_type": "code",
   "execution_count": 11,
   "id": "1a98b617",
   "metadata": {},
   "outputs": [
    {
     "data": {
      "text/plain": [
       "2.75"
      ]
     },
     "execution_count": 11,
     "metadata": {},
     "output_type": "execute_result"
    }
   ],
   "source": [
    "c"
   ]
  },
  {
   "cell_type": "code",
   "execution_count": 12,
   "id": "27ccb6f1",
   "metadata": {},
   "outputs": [
    {
     "data": {
      "text/plain": [
       "float"
      ]
     },
     "execution_count": 12,
     "metadata": {},
     "output_type": "execute_result"
    }
   ],
   "source": [
    "type(c)"
   ]
  },
  {
   "cell_type": "markdown",
   "id": "075f0d72",
   "metadata": {},
   "source": [
    "### Cash Flow"
   ]
  },
  {
   "cell_type": "code",
   "execution_count": 13,
   "id": "52e7d5eb",
   "metadata": {},
   "outputs": [],
   "source": [
    "c0 = -9.5"
   ]
  },
  {
   "cell_type": "code",
   "execution_count": 14,
   "id": "34f2a711",
   "metadata": {},
   "outputs": [],
   "source": [
    "c1 = 11.75"
   ]
  },
  {
   "cell_type": "code",
   "execution_count": 15,
   "id": "0526fb44",
   "metadata": {},
   "outputs": [],
   "source": [
    "c = (c0, c1)"
   ]
  },
  {
   "cell_type": "code",
   "execution_count": 16,
   "id": "a5950a4c",
   "metadata": {},
   "outputs": [
    {
     "data": {
      "text/plain": [
       "(-9.5, 11.75)"
      ]
     },
     "execution_count": 16,
     "metadata": {},
     "output_type": "execute_result"
    }
   ],
   "source": [
    "c"
   ]
  },
  {
   "cell_type": "code",
   "execution_count": 17,
   "id": "df9f8e64",
   "metadata": {},
   "outputs": [
    {
     "data": {
      "text/plain": [
       "tuple"
      ]
     },
     "execution_count": 17,
     "metadata": {},
     "output_type": "execute_result"
    }
   ],
   "source": [
    "type(c)"
   ]
  },
  {
   "cell_type": "code",
   "execution_count": 18,
   "id": "da4f82d3",
   "metadata": {},
   "outputs": [
    {
     "data": {
      "text/plain": [
       "-9.5"
      ]
     },
     "execution_count": 18,
     "metadata": {},
     "output_type": "execute_result"
    }
   ],
   "source": [
    "c[0]"
   ]
  },
  {
   "cell_type": "code",
   "execution_count": 19,
   "id": "f304e70a",
   "metadata": {},
   "outputs": [
    {
     "data": {
      "text/plain": [
       "11.75"
      ]
     },
     "execution_count": 19,
     "metadata": {},
     "output_type": "execute_result"
    }
   ],
   "source": [
    "c[1]"
   ]
  },
  {
   "cell_type": "code",
   "execution_count": 20,
   "id": "15660821",
   "metadata": {},
   "outputs": [],
   "source": [
    "c = [c0, c1]"
   ]
  },
  {
   "cell_type": "code",
   "execution_count": 21,
   "id": "33fcd21b",
   "metadata": {},
   "outputs": [
    {
     "data": {
      "text/plain": [
       "[-9.5, 11.75]"
      ]
     },
     "execution_count": 21,
     "metadata": {},
     "output_type": "execute_result"
    }
   ],
   "source": [
    "c"
   ]
  },
  {
   "cell_type": "code",
   "execution_count": 22,
   "id": "d6874951",
   "metadata": {},
   "outputs": [
    {
     "data": {
      "text/plain": [
       "list"
      ]
     },
     "execution_count": 22,
     "metadata": {},
     "output_type": "execute_result"
    }
   ],
   "source": [
    "type(c)"
   ]
  },
  {
   "cell_type": "code",
   "execution_count": 23,
   "id": "0670a444",
   "metadata": {},
   "outputs": [
    {
     "data": {
      "text/plain": [
       "-9.5"
      ]
     },
     "execution_count": 23,
     "metadata": {},
     "output_type": "execute_result"
    }
   ],
   "source": [
    "c[0]"
   ]
  },
  {
   "cell_type": "code",
   "execution_count": 24,
   "id": "aa80f9a8",
   "metadata": {},
   "outputs": [
    {
     "data": {
      "text/plain": [
       "11.75"
      ]
     },
     "execution_count": 24,
     "metadata": {},
     "output_type": "execute_result"
    }
   ],
   "source": [
    "c[1]"
   ]
  },
  {
   "cell_type": "code",
   "execution_count": 25,
   "id": "186c42a0",
   "metadata": {},
   "outputs": [],
   "source": [
    "c[0] = 10"
   ]
  },
  {
   "cell_type": "code",
   "execution_count": 26,
   "id": "0cdb7563",
   "metadata": {},
   "outputs": [
    {
     "data": {
      "text/plain": [
       "[10, 11.75]"
      ]
     },
     "execution_count": 26,
     "metadata": {},
     "output_type": "execute_result"
    }
   ],
   "source": [
    "c"
   ]
  },
  {
   "cell_type": "markdown",
   "id": "b43ee393",
   "metadata": {},
   "source": [
    "### Return"
   ]
  },
  {
   "cell_type": "code",
   "execution_count": 27,
   "id": "e5572c8c",
   "metadata": {},
   "outputs": [],
   "source": [
    "c = (-10, 12)"
   ]
  },
  {
   "cell_type": "code",
   "execution_count": 28,
   "id": "45a9e66a",
   "metadata": {},
   "outputs": [],
   "source": [
    "R = sum(c)"
   ]
  },
  {
   "cell_type": "code",
   "execution_count": 29,
   "id": "2497e761",
   "metadata": {},
   "outputs": [
    {
     "data": {
      "text/plain": [
       "2"
      ]
     },
     "execution_count": 29,
     "metadata": {},
     "output_type": "execute_result"
    }
   ],
   "source": [
    "R"
   ]
  },
  {
   "cell_type": "code",
   "execution_count": 30,
   "id": "6afe1245",
   "metadata": {},
   "outputs": [],
   "source": [
    "r = R / abs(c[0])"
   ]
  },
  {
   "cell_type": "code",
   "execution_count": 31,
   "id": "19a138e4",
   "metadata": {},
   "outputs": [
    {
     "data": {
      "text/plain": [
       "0.2"
      ]
     },
     "execution_count": 31,
     "metadata": {},
     "output_type": "execute_result"
    }
   ],
   "source": [
    "r"
   ]
  },
  {
   "cell_type": "markdown",
   "id": "dcd19083",
   "metadata": {},
   "source": [
    "### Present Value"
   ]
  },
  {
   "cell_type": "code",
   "execution_count": 32,
   "id": "d1d94d30",
   "metadata": {},
   "outputs": [],
   "source": [
    "i = 0.1"
   ]
  },
  {
   "cell_type": "code",
   "execution_count": 33,
   "id": "1d51aa5f",
   "metadata": {},
   "outputs": [],
   "source": [
    "def D(c1):\n",
    "    return c1 / (1 + i)"
   ]
  },
  {
   "cell_type": "code",
   "execution_count": 34,
   "id": "b6d8c1bb",
   "metadata": {},
   "outputs": [
    {
     "data": {
      "text/plain": [
       "10.999999999999998"
      ]
     },
     "execution_count": 34,
     "metadata": {},
     "output_type": "execute_result"
    }
   ],
   "source": [
    "D(12.1)"
   ]
  },
  {
   "cell_type": "code",
   "execution_count": 41,
   "id": "9924246d",
   "metadata": {},
   "outputs": [],
   "source": [
    "i = 0.01"
   ]
  },
  {
   "cell_type": "code",
   "execution_count": 42,
   "id": "ab4ec81c",
   "metadata": {},
   "outputs": [
    {
     "data": {
      "text/plain": [
       "99.00990099009901"
      ]
     },
     "execution_count": 42,
     "metadata": {},
     "output_type": "execute_result"
    }
   ],
   "source": [
    "D(100)"
   ]
  },
  {
   "cell_type": "markdown",
   "id": "91d467c9",
   "metadata": {},
   "source": [
    "### Net Present Value (순현재가치)"
   ]
  },
  {
   "cell_type": "code",
   "execution_count": 43,
   "id": "3438fb60",
   "metadata": {},
   "outputs": [],
   "source": [
    "def NPV(c):\n",
    "    return c[0] + D(c[1])"
   ]
  },
  {
   "cell_type": "code",
   "execution_count": 44,
   "id": "e6b41a39",
   "metadata": {},
   "outputs": [],
   "source": [
    "cA = (-10.5, 12.1)"
   ]
  },
  {
   "cell_type": "code",
   "execution_count": 45,
   "id": "d0d332bd",
   "metadata": {},
   "outputs": [],
   "source": [
    "cB = (-10.5, 11)"
   ]
  },
  {
   "cell_type": "code",
   "execution_count": 47,
   "id": "5f9c9c07",
   "metadata": {},
   "outputs": [],
   "source": [
    "i = 0.1"
   ]
  },
  {
   "cell_type": "code",
   "execution_count": 48,
   "id": "ce1359f5",
   "metadata": {},
   "outputs": [
    {
     "data": {
      "text/plain": [
       "0.4999999999999982"
      ]
     },
     "execution_count": 48,
     "metadata": {},
     "output_type": "execute_result"
    }
   ],
   "source": [
    "NPV(cA)"
   ]
  },
  {
   "cell_type": "code",
   "execution_count": 49,
   "id": "4402cc2b",
   "metadata": {},
   "outputs": [
    {
     "data": {
      "text/plain": [
       "-0.5"
      ]
     },
     "execution_count": 49,
     "metadata": {},
     "output_type": "execute_result"
    }
   ],
   "source": [
    "NPV(cB)"
   ]
  },
  {
   "cell_type": "markdown",
   "id": "755f1365",
   "metadata": {},
   "source": [
    "### Uncertainty"
   ]
  },
  {
   "cell_type": "code",
   "execution_count": 50,
   "id": "bff164c4",
   "metadata": {},
   "outputs": [],
   "source": [
    "import numpy as np"
   ]
  },
  {
   "cell_type": "code",
   "execution_count": 51,
   "id": "088e4f50",
   "metadata": {},
   "outputs": [],
   "source": [
    "c0 = -10 # the cash flow of a project in one year"
   ]
  },
  {
   "cell_type": "code",
   "execution_count": 52,
   "id": "1d64afab",
   "metadata": {},
   "outputs": [],
   "source": [
    "c1 = np.array((20, 5)) c1 # the relevant cash flows per state of the economy"
   ]
  },
  {
   "cell_type": "code",
   "execution_count": 53,
   "id": "1bfecb96",
   "metadata": {},
   "outputs": [
    {
     "data": {
      "text/plain": [
       "numpy.ndarray"
      ]
     },
     "execution_count": 53,
     "metadata": {},
     "output_type": "execute_result"
    }
   ],
   "source": [
    "type(c1)"
   ]
  },
  {
   "cell_type": "code",
   "execution_count": 54,
   "id": "10eb57b1",
   "metadata": {},
   "outputs": [
    {
     "data": {
      "text/plain": [
       "array([20,  5])"
      ]
     },
     "execution_count": 54,
     "metadata": {},
     "output_type": "execute_result"
    }
   ],
   "source": [
    "c1"
   ]
  },
  {
   "cell_type": "code",
   "execution_count": 55,
   "id": "c6cc0e3b",
   "metadata": {},
   "outputs": [],
   "source": [
    "c = (c0, c1)"
   ]
  },
  {
   "cell_type": "code",
   "execution_count": 56,
   "id": "0efa7205",
   "metadata": {},
   "outputs": [
    {
     "data": {
      "text/plain": [
       "(-10, array([20,  5]))"
      ]
     },
     "execution_count": 56,
     "metadata": {},
     "output_type": "execute_result"
    }
   ],
   "source": [
    "c"
   ]
  },
  {
   "cell_type": "code",
   "execution_count": 57,
   "id": "9f86ed93",
   "metadata": {},
   "outputs": [
    {
     "data": {
      "text/plain": [
       "array([32. ,  9.5])"
      ]
     },
     "execution_count": 57,
     "metadata": {},
     "output_type": "execute_result"
    }
   ],
   "source": [
    "1.5 * c1 + 2 # a certain operation, scalar multiplication and addition"
   ]
  },
  {
   "cell_type": "code",
   "execution_count": 58,
   "id": "9fa1295b",
   "metadata": {},
   "outputs": [
    {
     "data": {
      "text/plain": [
       "array([35., 11.])"
      ]
     },
     "execution_count": 58,
     "metadata": {},
     "output_type": "execute_result"
    }
   ],
   "source": [
    "c1 + 1.5 * np.array((10, 4)) # another operation, a linear combination"
   ]
  },
  {
   "cell_type": "markdown",
   "id": "e8fee808",
   "metadata": {},
   "source": [
    "### Financial Assets"
   ]
  },
  {
   "cell_type": "code",
   "execution_count": 59,
   "id": "a1a0329d",
   "metadata": {},
   "outputs": [],
   "source": [
    "S0 = 10 # The price today of S0"
   ]
  },
  {
   "cell_type": "code",
   "execution_count": 60,
   "id": "00335638",
   "metadata": {},
   "outputs": [],
   "source": [
    "S1 = np.array((12.5, 7.5)) # The uncertain price in one year as a vector"
   ]
  },
  {
   "cell_type": "code",
   "execution_count": 61,
   "id": "26dd1968",
   "metadata": {},
   "outputs": [],
   "source": [
    "S = (S0, S1) # The price process as a tuple object"
   ]
  },
  {
   "cell_type": "code",
   "execution_count": 62,
   "id": "47683222",
   "metadata": {},
   "outputs": [
    {
     "data": {
      "text/plain": [
       "(10, array([12.5,  7.5]))"
      ]
     },
     "execution_count": 62,
     "metadata": {},
     "output_type": "execute_result"
    }
   ],
   "source": [
    "S"
   ]
  },
  {
   "cell_type": "code",
   "execution_count": 63,
   "id": "827f15fd",
   "metadata": {},
   "outputs": [
    {
     "data": {
      "text/plain": [
       "10"
      ]
     },
     "execution_count": 63,
     "metadata": {},
     "output_type": "execute_result"
    }
   ],
   "source": [
    "S[0] # Accesses the price of today"
   ]
  },
  {
   "cell_type": "code",
   "execution_count": 64,
   "id": "2c380269",
   "metadata": {},
   "outputs": [
    {
     "data": {
      "text/plain": [
       "12.5"
      ]
     },
     "execution_count": 64,
     "metadata": {},
     "output_type": "execute_result"
    }
   ],
   "source": [
    "S[1][0] # Accesses the price in one year in the u(first) state"
   ]
  },
  {
   "cell_type": "code",
   "execution_count": 65,
   "id": "dd4a6fe9",
   "metadata": {},
   "outputs": [
    {
     "data": {
      "text/plain": [
       "7.5"
      ]
     },
     "execution_count": 65,
     "metadata": {},
     "output_type": "execute_result"
    }
   ],
   "source": [
    "S[1][1] # Accesses the price in one year in the d(second) state"
   ]
  },
  {
   "cell_type": "markdown",
   "id": "42219e8b",
   "metadata": {},
   "source": [
    "### Probability "
   ]
  },
  {
   "cell_type": "code",
   "execution_count": 66,
   "id": "6528b042",
   "metadata": {},
   "outputs": [],
   "source": [
    "p = 0.4"
   ]
  },
  {
   "cell_type": "code",
   "execution_count": 67,
   "id": "68ea7d38",
   "metadata": {},
   "outputs": [
    {
     "data": {
      "text/plain": [
       "0.6"
      ]
     },
     "execution_count": 67,
     "metadata": {},
     "output_type": "execute_result"
    }
   ],
   "source": [
    "1 - p"
   ]
  },
  {
   "cell_type": "code",
   "execution_count": 68,
   "id": "74db4748",
   "metadata": {},
   "outputs": [],
   "source": [
    "P = np.array((p, 1-p))"
   ]
  },
  {
   "cell_type": "code",
   "execution_count": 69,
   "id": "84f1c3e4",
   "metadata": {},
   "outputs": [
    {
     "data": {
      "text/plain": [
       "array([0.4, 0.6])"
      ]
     },
     "execution_count": 69,
     "metadata": {},
     "output_type": "execute_result"
    }
   ],
   "source": [
    "P"
   ]
  },
  {
   "cell_type": "markdown",
   "id": "88ba8af9",
   "metadata": {},
   "source": [
    "### Expectations"
   ]
  },
  {
   "cell_type": "code",
   "execution_count": 70,
   "id": "fb73300a",
   "metadata": {},
   "outputs": [
    {
     "data": {
      "text/plain": [
       "array([0.4, 0.6])"
      ]
     },
     "execution_count": 70,
     "metadata": {},
     "output_type": "execute_result"
    }
   ],
   "source": [
    "P"
   ]
  },
  {
   "cell_type": "code",
   "execution_count": 71,
   "id": "b53a18fd",
   "metadata": {},
   "outputs": [],
   "source": [
    "S0 = 10"
   ]
  },
  {
   "cell_type": "code",
   "execution_count": 72,
   "id": "924650b5",
   "metadata": {},
   "outputs": [],
   "source": [
    "S1 = np.array((20, 5))"
   ]
  },
  {
   "cell_type": "code",
   "execution_count": 73,
   "id": "51fc2a13",
   "metadata": {},
   "outputs": [
    {
     "data": {
      "text/plain": [
       "11.0"
      ]
     },
     "execution_count": 73,
     "metadata": {},
     "output_type": "execute_result"
    }
   ],
   "source": [
    "np.dot(P, S1) # two vectors calculating the expectation value"
   ]
  },
  {
   "cell_type": "markdown",
   "id": "9483706a",
   "metadata": {},
   "source": [
    "### Expected Return"
   ]
  },
  {
   "cell_type": "code",
   "execution_count": 74,
   "id": "704b7898",
   "metadata": {},
   "outputs": [],
   "source": [
    "def ER(x0, x1):\n",
    "    # the expected return: the expection of the price in one year minus the price today\n",
    "    return np.dot(P, x1) - x0"
   ]
  },
  {
   "cell_type": "code",
   "execution_count": 75,
   "id": "b707e80b",
   "metadata": {},
   "outputs": [
    {
     "data": {
      "text/plain": [
       "1.0"
      ]
     },
     "execution_count": 75,
     "metadata": {},
     "output_type": "execute_result"
    }
   ],
   "source": [
    "ER(S0, S1)"
   ]
  },
  {
   "cell_type": "code",
   "execution_count": 78,
   "id": "240b9182",
   "metadata": {},
   "outputs": [],
   "source": [
    "def mu(x0, x1): \n",
    "    # The expected rate of return: the expected return divided by the price today\n",
    "    return (np.dot(P, x1) - x0) / x0"
   ]
  },
  {
   "cell_type": "code",
   "execution_count": 77,
   "id": "53744e99",
   "metadata": {},
   "outputs": [
    {
     "data": {
      "text/plain": [
       "0.1"
      ]
     },
     "execution_count": 77,
     "metadata": {},
     "output_type": "execute_result"
    }
   ],
   "source": [
    "mu(S0, S1)"
   ]
  },
  {
   "cell_type": "markdown",
   "id": "c85a3e70",
   "metadata": {},
   "source": [
    "### Volatility"
   ]
  },
  {
   "cell_type": "code",
   "execution_count": 79,
   "id": "6dd53da1",
   "metadata": {},
   "outputs": [],
   "source": [
    "def r(x0, x1):\n",
    "    return (x1 - x0) / x0"
   ]
  },
  {
   "cell_type": "code",
   "execution_count": 80,
   "id": "b38e9d0b",
   "metadata": {},
   "outputs": [
    {
     "data": {
      "text/plain": [
       "array([ 1. , -0.5])"
      ]
     },
     "execution_count": 80,
     "metadata": {},
     "output_type": "execute_result"
    }
   ],
   "source": [
    "r(S0, S1)"
   ]
  },
  {
   "cell_type": "code",
   "execution_count": 81,
   "id": "65d76184",
   "metadata": {},
   "outputs": [],
   "source": [
    "mu = np.dot(P, r(S0, S1))"
   ]
  },
  {
   "cell_type": "code",
   "execution_count": 82,
   "id": "a68c938e",
   "metadata": {},
   "outputs": [
    {
     "data": {
      "text/plain": [
       "0.10000000000000003"
      ]
     },
     "execution_count": 82,
     "metadata": {},
     "output_type": "execute_result"
    }
   ],
   "source": [
    "mu"
   ]
  },
  {
   "cell_type": "code",
   "execution_count": 84,
   "id": "0ad2bc77",
   "metadata": {},
   "outputs": [],
   "source": [
    "def sigma2(P, r, mu):\n",
    "    return np.dot(P, (r - mu) ** 2)"
   ]
  },
  {
   "cell_type": "code",
   "execution_count": 85,
   "id": "74d5e0cf",
   "metadata": {},
   "outputs": [
    {
     "data": {
      "text/plain": [
       "0.54"
      ]
     },
     "execution_count": 85,
     "metadata": {},
     "output_type": "execute_result"
    }
   ],
   "source": [
    "sigma2(P, r(S0, S1), mu)"
   ]
  },
  {
   "cell_type": "code",
   "execution_count": 86,
   "id": "762133e0",
   "metadata": {},
   "outputs": [],
   "source": [
    "def sigma(P, r, mu):\n",
    "    return np.sqrt(np.dot(P, (r - mu) ** 2))"
   ]
  },
  {
   "cell_type": "code",
   "execution_count": 87,
   "id": "a96ca26e",
   "metadata": {},
   "outputs": [
    {
     "data": {
      "text/plain": [
       "0.7348469228349535"
      ]
     },
     "execution_count": 87,
     "metadata": {},
     "output_type": "execute_result"
    }
   ],
   "source": [
    "sigma(P, r(S0, S1), mu)"
   ]
  },
  {
   "cell_type": "code",
   "execution_count": null,
   "id": "fd5cefc4",
   "metadata": {},
   "outputs": [],
   "source": []
  }
 ],
 "metadata": {
  "kernelspec": {
   "display_name": "Python 3 (ipykernel)",
   "language": "python",
   "name": "python3"
  },
  "language_info": {
   "codemirror_mode": {
    "name": "ipython",
    "version": 3
   },
   "file_extension": ".py",
   "mimetype": "text/x-python",
   "name": "python",
   "nbconvert_exporter": "python",
   "pygments_lexer": "ipython3",
   "version": "3.9.6"
  }
 },
 "nbformat": 4,
 "nbformat_minor": 5
}
